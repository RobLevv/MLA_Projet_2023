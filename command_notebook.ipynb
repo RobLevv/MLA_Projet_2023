{
 "cells": [
  {
   "cell_type": "code",
   "execution_count": 14,
   "metadata": {},
   "outputs": [
    {
     "name": "stdout",
     "output_type": "stream",
     "text": [
      "/home/notregroupe\n",
      "total 12\n",
      "-rw-r--r-- 1 notregroupe 7163 Nov 22 09:33 README.md\n",
      "lrwxrwxrwx 1 notregroupe    9 Nov 22 09:33 \u001b[0m\u001b[01;36mdata\u001b[0m -> \u001b[01;34m/srv/data\u001b[0m/\n",
      "lrwxrwxrwx 1 notregroupe   11 Nov 22 09:33 \u001b[01;36mshared\u001b[0m -> \u001b[34;42m/srv/shared\u001b[0m/\n",
      "drwxr-xr-x 4 notregroupe 4096 Nov 22 09:35 \u001b[01;34mtests\u001b[0m/\n",
      "/home/notregroupe/tests/MLA_Projet_2023\n",
      "total 15672\n",
      "-rw-r--r-- 1 notregroupe     2420 Dec 13 17:19 AutoEncoder.py\n",
      "drwxr-xr-x 2 notregroupe     4096 Nov 30 18:04 \u001b[0m\u001b[01;34mCR\u001b[0m/\n",
      "-rw-r--r-- 1 notregroupe     1129 Dec 13 16:35 Discriminator.py\n",
      "drwxr-xr-x 7 notregroupe     4096 Dec 13 10:44 \u001b[01;34mFaderNetworks_NIPS2017\u001b[0m/\n",
      "drwxr-xr-x 3 notregroupe     4096 Dec 13 16:35 \u001b[01;34mLogs\u001b[0m/\n",
      "-rw-r--r-- 1 notregroupe 11570151 Nov 22 09:34 MLA_Projet_Article-1.pdf\n",
      "-rw-r--r-- 1 notregroupe        0 Dec 12 16:42 Mise_en_page.ipynb\n",
      "drwxr-xr-x 2 notregroupe     4096 Dec 13 16:35 \u001b[01;34mModels\u001b[0m/\n",
      "-rw-r--r-- 1 notregroupe      123 Nov 22 09:34 README.md\n",
      "-rw-r--r-- 1 notregroupe     1084 Nov 26 15:58 Ressources.md\n",
      "drwxr-xr-x 2 notregroupe     4096 Dec 13 17:18 \u001b[01;34m__pycache__\u001b[0m/\n",
      "drwxr-xr-x 7 notregroupe   135168 Nov 30 21:04 \u001b[01;34mdata\u001b[0m/\n",
      "-rw-r--r-- 1 notregroupe  1286076 Dec  1 17:58 data_exploration.ipynb\n",
      "-rw-r--r-- 1 notregroupe     2941 Dec 13 16:35 data_loader_V3.py\n",
      "-rw-r--r-- 1 notregroupe   999414 Dec 13 09:29 epoch_0.png\n",
      "-rw-r--r-- 1 notregroupe   471249 Dec 13 10:44 launch_colab.ipynb\n",
      "-rw-r--r-- 1 notregroupe     5604 Dec 13 16:35 network_architectures.py\n",
      "-rw-r--r-- 1 notregroupe     5692 Dec 13 10:44 network_architectures.py.orig\n",
      "-rw-r--r-- 1 notregroupe      707 Dec 13 11:24 objectives.py\n",
      "-rw-r--r-- 1 notregroupe   627721 Dec  7 16:00 result_batch1.png\n",
      "-rw-r--r-- 1 notregroupe   845111 Dec  7 15:25 result_batch9.png\n",
      "drwxr-xr-x 3 notregroupe     4096 Dec  6 10:34 \u001b[01;34mresults\u001b[0m/\n",
      "drwxr-xr-x 3 notregroupe     4096 Dec 13 16:35 \u001b[01;34mscript\u001b[0m/\n",
      "-rw-r--r-- 1 notregroupe     9254 Dec 13 16:39 training_loop.py\n",
      "-rw-r--r-- 1 notregroupe    10483 Dec 13 10:44 training_loop.py.orig\n",
      "-rw-r--r-- 1 notregroupe     5933 Dec 13 16:35 utils.py\n"
     ]
    }
   ],
   "source": [
    "%cd\n",
    "%ll\n",
    "%cd tests/MLA_Projet_2023/\n",
    "%ll"
   ]
  },
  {
   "cell_type": "code",
   "execution_count": 16,
   "metadata": {},
   "outputs": [
    {
     "name": "stdout",
     "output_type": "stream",
     "text": [
      "/usr/local/lib/python3.10/dist-packages/torch/nn/modules/conv.py:459: UserWarning: Using padding='same' with even kernel lengths and odd dilation may require a zero-padded copy of the input be created (Triggered internally at ../aten/src/ATen/native/Convolution.cpp:895.)\n",
      "  return F.conv2d(input, weight, bias, self.stride,\n",
      "Epoch : 0 / 5  batch_index : 17 / 1013  loss_autoencoder : -0.56  loss_discriminator : 0.6867^C\n",
      "Traceback (most recent call last):\n",
      "  File \"/home/notregroupe/tests/MLA_Projet_2023/training_loop.py\", line 164, in <module>\n",
      "    train_loop(\n",
      "  File \"/home/notregroupe/tests/MLA_Projet_2023/training_loop.py\", line 45, in train_loop\n",
      "    for batch_nb, batch in enumerate(data_loader):\n",
      "  File \"/usr/local/lib/python3.10/dist-packages/torch/utils/data/dataloader.py\", line 628, in __next__\n",
      "    data = self._next_data()\n",
      "  File \"/usr/local/lib/python3.10/dist-packages/torch/utils/data/dataloader.py\", line 671, in _next_data\n",
      "    data = self._dataset_fetcher.fetch(index)  # may raise StopIteration\n",
      "  File \"/usr/local/lib/python3.10/dist-packages/torch/utils/data/_utils/fetch.py\", line 58, in fetch\n",
      "    data = [self.dataset[idx] for idx in possibly_batched_index]\n",
      "  File \"/usr/local/lib/python3.10/dist-packages/torch/utils/data/_utils/fetch.py\", line 58, in <listcomp>\n",
      "    data = [self.dataset[idx] for idx in possibly_batched_index]\n",
      "  File \"/usr/local/lib/python3.10/dist-packages/torch/utils/data/dataset.py\", line 295, in __getitem__\n",
      "    return self.dataset[self.indices[idx]]\n",
      "  File \"/home/notregroupe/tests/MLA_Projet_2023/data_loader_V3.py\", line 49, in __getitem__\n",
      "    sample = self.transform(sample)\n",
      "  File \"/home/notregroupe/tests/MLA_Projet_2023/utils.py\", line 36, in transform_sample_for_celeba\n",
      "    image = transform_img_for_celeba(sample['image'], target_size=target_size)\n",
      "  File \"/home/notregroupe/tests/MLA_Projet_2023/utils.py\", line 21, in transform_img_for_celeba\n",
      "    image = resize(image, (target_size, target_size), antialias=True)\n",
      "  File \"/usr/local/lib/python3.10/dist-packages/torchvision/transforms/functional.py\", line 476, in resize\n",
      "    return F_t.resize(img, size=output_size, interpolation=interpolation.value, antialias=antialias)\n",
      "  File \"/usr/local/lib/python3.10/dist-packages/torchvision/transforms/functional_tensor.py\", line 469, in resize\n",
      "    img = interpolate(img, size=size, mode=interpolation, align_corners=align_corners, antialias=antialias)\n",
      "  File \"/usr/local/lib/python3.10/dist-packages/torch/nn/functional.py\", line 3949, in interpolate\n",
      "    return torch._C._nn._upsample_bilinear2d_aa(input, output_size, align_corners, scale_factors)\n",
      "KeyboardInterrupt\n"
     ]
    }
   ],
   "source": [
    "!python training_loop.py"
   ]
  },
  {
   "cell_type": "code",
   "execution_count": null,
   "metadata": {},
   "outputs": [],
   "source": []
  }
 ],
 "metadata": {
  "kernelspec": {
   "display_name": "Python 3 (ipykernel)",
   "language": "python",
   "name": "python3"
  },
  "language_info": {
   "codemirror_mode": {
    "name": "ipython",
    "version": 3
   },
   "file_extension": ".py",
   "mimetype": "text/x-python",
   "name": "python",
   "nbconvert_exporter": "python",
   "pygments_lexer": "ipython3",
   "version": "3.10.6"
  }
 },
 "nbformat": 4,
 "nbformat_minor": 2
}
